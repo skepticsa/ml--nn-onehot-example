{
 "cells": [
  {
   "cell_type": "code",
   "execution_count": 1,
   "metadata": {},
   "outputs": [],
   "source": [
    "# Import the necessary libraries\n",
    "# \n",
    "import pandas as pd\n",
    "from sklearn import preprocessing\n",
    "from sklearn.metrics import accuracy_score\n",
    "from sklearn.model_selection import train_test_split\n",
    "from sklearn.preprocessing import OneHotEncoder\n",
    "import tensorflow as tf\n",
    "import matplotlib.pyplot as plt\n",
    "import numpy as np\n",
    "from keras import models\n",
    "from keras import layers\n",
    "from keras.utils.np_utils import to_categorical"
   ]
  },
  {
   "cell_type": "code",
   "execution_count": 2,
   "metadata": {
    "pycharm": {
     "name": "#%%\n"
    }
   },
   "outputs": [],
   "source": [
    "# This function is used to extract the features and the labels from the dataset\n",
    "# \n",
    "def extract_x_y(df, feature_name):\n",
    "    y = df[feature_name]\n",
    "    X = df.drop(columns=[feature_name])\n",
    "    return X, y"
   ]
  },
  {
   "cell_type": "code",
   "execution_count": 3,
   "metadata": {
    "pycharm": {
     "name": "#%%\n"
    }
   },
   "outputs": [],
   "source": [
    "# We encode only the required columns\n",
    "# \n",
    "def encode_columns(X_train, X_test, columns, save=False):\n",
    "    enc = OneHotEncoder(sparse=False, handle_unknown='ignore')\n",
    "\n",
    "    dfX_train = X_train[columns].copy()\n",
    "    enc.fit(dfX_train)\n",
    "    column_name = enc.get_feature_names(columns)\n",
    "\n",
    "    X_train_1h = pd.DataFrame(enc.transform(dfX_train), columns=column_name)\n",
    "    print(X_train_1h)\n",
    "    print(X_train_1h.shape)\n",
    "\n",
    "    dfX_test = X_test[columns].copy()\n",
    "    X_test_1h = pd.DataFrame(enc.transform(dfX_test), columns=column_name)\n",
    "    print(X_test_1h)\n",
    "    print(X_test_1h.shape)\n",
    "\n",
    "    return X_train_1h, X_test_1h"
   ]
  },
  {
   "cell_type": "code",
   "execution_count": 4,
   "metadata": {
    "pycharm": {
     "name": "#%%\n"
    }
   },
   "outputs": [],
   "source": [
    "# We use this function to plot the metrics\n",
    "#\n",
    "def plot_metric(dict, name):\n",
    "    plt.plot(dict[name])\n",
    "    plt.plot(dict[f'val_{name}'])\n",
    "    plt.title(f'model {name}')\n",
    "    plt.ylabel(f'{name}')\n",
    "    plt.xlabel('epoch')\n",
    "    plt.legend(['train', 'test'], loc='upper left')\n",
    "    plt.show()"
   ]
  },
  {
   "cell_type": "code",
   "execution_count": 5,
   "metadata": {
    "pycharm": {
     "name": "#%%\n"
    }
   },
   "outputs": [],
   "source": [
    "# Define the Artificial Neural Nertwork topology\n",
    "def define_nn_topology():\n",
    "    model = models.Sequential()\n",
    "    model.add(layers.Flatten(input_shape=(number_of_features,)))\n",
    "\n",
    "    # Only one hidden layer\n",
    "    model.add(layers.Dense(units=64, activation='relu'))\n",
    "\n",
    "    model.add(layers.Dense(units=number_of_classes, activation='softmax')) \n",
    "   \n",
    "    # Compile neural network\n",
    "    model.compile(loss='categorical_crossentropy',\n",
    "                  optimizer='adam',\n",
    "                  metrics=[ \n",
    "                           tf.keras.metrics.CategoricalAccuracy(),\n",
    "                           tf.keras.metrics.AUC(),\n",
    "                           tf.keras.metrics.Precision(),\n",
    "                           tf.keras.metrics.Recall()\n",
    "                           ])\n",
    "    return model"
   ]
  },
  {
   "cell_type": "code",
   "execution_count": 6,
   "metadata": {
    "pycharm": {
     "name": "#%%\n"
    }
   },
   "outputs": [
    {
     "name": "stdout",
     "output_type": "stream",
     "text": [
      "    USER  TYPE  DIFF  CLASS\n",
      "0  User1     4    90     95\n",
      "1  User2     2    60     64\n",
      "2  User3     3    30     36\n",
      "3  User2     1    45     48\n",
      "4  User4     5    30     39\n",
      "5  User5     6    15     26\n",
      "6  User1     5    60     66\n",
      "7  User6     8    45     59\n",
      "8  User1     4    90     95\n",
      "9  User3     3    30     36\n"
     ]
    }
   ],
   "source": [
    "# Read the datas set\n",
    "#\n",
    "df = pd.read_csv('dataset.csv')\n",
    "print(df)"
   ]
  },
  {
   "cell_type": "code",
   "execution_count": 7,
   "metadata": {
    "pycharm": {
     "name": "#%%\n"
    }
   },
   "outputs": [],
   "source": [
    "# Extract the features and the label\n",
    "LABEL_COL = 'CLASS'\n",
    "X, y = extract_x_y(df, LABEL_COL)"
   ]
  },
  {
   "cell_type": "code",
   "execution_count": 8,
   "metadata": {
    "pycharm": {
     "name": "#%%\n"
    }
   },
   "outputs": [],
   "source": [
    "# Split the data set into traing and test\n",
    "#\n",
    "X_train, X_test, y_train, y_test = train_test_split(X, y, shuffle=False, random_state=33, test_size=0.20)"
   ]
  },
  {
   "cell_type": "code",
   "execution_count": 9,
   "metadata": {
    "pycharm": {
     "name": "#%%\n"
    }
   },
   "outputs": [
    {
     "name": "stdout",
     "output_type": "stream",
     "text": [
      "   USER_User1  USER_User2  USER_User3  USER_User4  USER_User5  USER_User6  \\\n",
      "0         1.0         0.0         0.0         0.0         0.0         0.0   \n",
      "1         0.0         1.0         0.0         0.0         0.0         0.0   \n",
      "2         0.0         0.0         1.0         0.0         0.0         0.0   \n",
      "3         0.0         1.0         0.0         0.0         0.0         0.0   \n",
      "4         0.0         0.0         0.0         1.0         0.0         0.0   \n",
      "5         0.0         0.0         0.0         0.0         1.0         0.0   \n",
      "6         1.0         0.0         0.0         0.0         0.0         0.0   \n",
      "7         0.0         0.0         0.0         0.0         0.0         1.0   \n",
      "\n",
      "   TYPE_1  TYPE_2  TYPE_3  TYPE_4  TYPE_5  TYPE_6  TYPE_8  \n",
      "0     0.0     0.0     0.0     1.0     0.0     0.0     0.0  \n",
      "1     0.0     1.0     0.0     0.0     0.0     0.0     0.0  \n",
      "2     0.0     0.0     1.0     0.0     0.0     0.0     0.0  \n",
      "3     1.0     0.0     0.0     0.0     0.0     0.0     0.0  \n",
      "4     0.0     0.0     0.0     0.0     1.0     0.0     0.0  \n",
      "5     0.0     0.0     0.0     0.0     0.0     1.0     0.0  \n",
      "6     0.0     0.0     0.0     0.0     1.0     0.0     0.0  \n",
      "7     0.0     0.0     0.0     0.0     0.0     0.0     1.0  \n",
      "(8, 13)\n",
      "   USER_User1  USER_User2  USER_User3  USER_User4  USER_User5  USER_User6  \\\n",
      "0         1.0         0.0         0.0         0.0         0.0         0.0   \n",
      "1         0.0         0.0         1.0         0.0         0.0         0.0   \n",
      "\n",
      "   TYPE_1  TYPE_2  TYPE_3  TYPE_4  TYPE_5  TYPE_6  TYPE_8  \n",
      "0     0.0     0.0     0.0     1.0     0.0     0.0     0.0  \n",
      "1     0.0     0.0     1.0     0.0     0.0     0.0     0.0  \n",
      "(2, 13)\n"
     ]
    }
   ],
   "source": [
    "# One-hot encoding of the categorical columns\n",
    "#\n",
    "one_hot_columns = ['USER', 'TYPE']\n",
    "X_train_1h, X_test_1h = encode_columns(X_train, X_test, one_hot_columns)"
   ]
  },
  {
   "cell_type": "code",
   "execution_count": 10,
   "metadata": {
    "pycharm": {
     "name": "#%%\n"
    }
   },
   "outputs": [],
   "source": [
    "# Transform the numerical column\n",
    "#\n",
    "col_4_transform = ['DIFF']\n",
    "\n",
    "scaler = preprocessing.MaxAbsScaler()\n",
    "X_train_transform = scaler.fit_transform(X_train[col_4_transform])\n",
    "X_test_transform = scaler.transform(X_test[col_4_transform])"
   ]
  },
  {
   "cell_type": "code",
   "execution_count": 11,
   "metadata": {
    "pycharm": {
     "name": "#%%\n"
    }
   },
   "outputs": [
    {
     "name": "stdout",
     "output_type": "stream",
     "text": [
      "   USER_User1  USER_User2  USER_User3  USER_User4  USER_User5  USER_User6  \\\n",
      "0         1.0         0.0         0.0         0.0         0.0         0.0   \n",
      "1         0.0         1.0         0.0         0.0         0.0         0.0   \n",
      "2         0.0         0.0         1.0         0.0         0.0         0.0   \n",
      "3         0.0         1.0         0.0         0.0         0.0         0.0   \n",
      "4         0.0         0.0         0.0         1.0         0.0         0.0   \n",
      "5         0.0         0.0         0.0         0.0         1.0         0.0   \n",
      "6         1.0         0.0         0.0         0.0         0.0         0.0   \n",
      "7         0.0         0.0         0.0         0.0         0.0         1.0   \n",
      "\n",
      "   TYPE_1  TYPE_2  TYPE_3  TYPE_4  TYPE_5  TYPE_6  TYPE_8      DIFF  \n",
      "0     0.0     0.0     0.0     1.0     0.0     0.0     0.0  1.000000  \n",
      "1     0.0     1.0     0.0     0.0     0.0     0.0     0.0  0.666667  \n",
      "2     0.0     0.0     1.0     0.0     0.0     0.0     0.0  0.333333  \n",
      "3     1.0     0.0     0.0     0.0     0.0     0.0     0.0  0.500000  \n",
      "4     0.0     0.0     0.0     0.0     1.0     0.0     0.0  0.333333  \n",
      "5     0.0     0.0     0.0     0.0     0.0     1.0     0.0  0.166667  \n",
      "6     0.0     0.0     0.0     0.0     1.0     0.0     0.0  0.666667  \n",
      "7     0.0     0.0     0.0     0.0     0.0     0.0     1.0  0.500000  \n",
      "(8, 14)\n",
      "   USER_User1  USER_User2  USER_User3  USER_User4  USER_User5  USER_User6  \\\n",
      "0         1.0         0.0         0.0         0.0         0.0         0.0   \n",
      "1         0.0         0.0         1.0         0.0         0.0         0.0   \n",
      "\n",
      "   TYPE_1  TYPE_2  TYPE_3  TYPE_4  TYPE_5  TYPE_6  TYPE_8      DIFF  \n",
      "0     0.0     0.0     0.0     1.0     0.0     0.0     0.0  1.000000  \n",
      "1     0.0     0.0     1.0     0.0     0.0     0.0     0.0  0.333333  \n",
      "(2, 14)\n"
     ]
    }
   ],
   "source": [
    "# Concatenate the data to form the train and test sets\n",
    "#\n",
    "X_train = pd.concat([X_train_1h, pd.DataFrame(data=X_train_transform, columns=col_4_transform)], axis=1)\n",
    "X_test = pd.concat([X_test_1h, pd.DataFrame(data=X_test_transform, columns=col_4_transform)], axis=1)\n",
    "print(X_train)\n",
    "print(X_train.shape)\n",
    "print(X_test)\n",
    "print(X_test.shape)"
   ]
  },
  {
   "cell_type": "code",
   "execution_count": 12,
   "metadata": {
    "pycharm": {
     "name": "#%%\n"
    }
   },
   "outputs": [],
   "source": [
    "# Transform the labels into Pandas datasets\n",
    "#\n",
    "y_train = pd.DataFrame(y_train)\n",
    "y_test = pd.DataFrame(y_test)"
   ]
  },
  {
   "cell_type": "code",
   "execution_count": 13,
   "metadata": {
    "pycharm": {
     "name": "#%%\n"
    }
   },
   "outputs": [
    {
     "name": "stdout",
     "output_type": "stream",
     "text": [
      "   CLASS_26  CLASS_36  CLASS_39  CLASS_48  CLASS_59  CLASS_64  CLASS_66  \\\n",
      "0       0.0       0.0       0.0       0.0       0.0       0.0       0.0   \n",
      "1       0.0       0.0       0.0       0.0       0.0       1.0       0.0   \n",
      "2       0.0       1.0       0.0       0.0       0.0       0.0       0.0   \n",
      "3       0.0       0.0       0.0       1.0       0.0       0.0       0.0   \n",
      "4       0.0       0.0       1.0       0.0       0.0       0.0       0.0   \n",
      "5       1.0       0.0       0.0       0.0       0.0       0.0       0.0   \n",
      "6       0.0       0.0       0.0       0.0       0.0       0.0       1.0   \n",
      "7       0.0       0.0       0.0       0.0       1.0       0.0       0.0   \n",
      "\n",
      "   CLASS_95  \n",
      "0       1.0  \n",
      "1       0.0  \n",
      "2       0.0  \n",
      "3       0.0  \n",
      "4       0.0  \n",
      "5       0.0  \n",
      "6       0.0  \n",
      "7       0.0  \n",
      "(8, 8)\n",
      "   CLASS_26  CLASS_36  CLASS_39  CLASS_48  CLASS_59  CLASS_64  CLASS_66  \\\n",
      "0       0.0       0.0       0.0       0.0       0.0       0.0       0.0   \n",
      "1       0.0       1.0       0.0       0.0       0.0       0.0       0.0   \n",
      "\n",
      "   CLASS_95  \n",
      "0       1.0  \n",
      "1       0.0  \n",
      "(2, 8)\n"
     ]
    }
   ],
   "source": [
    "# encode the labels\n",
    "# \n",
    "one_hot_columns_y = ['CLASS']\n",
    "y_train, y_test = encode_columns(y_train, y_test, one_hot_columns_y)"
   ]
  },
  {
   "cell_type": "code",
   "execution_count": 14,
   "metadata": {
    "pycharm": {
     "name": "#%%\n"
    }
   },
   "outputs": [
    {
     "name": "stdout",
     "output_type": "stream",
     "text": [
      "\n",
      "samples=8 features=14 classes=8\n",
      "\n"
     ]
    }
   ],
   "source": [
    "# Extract the number of samples, features and classes\n",
    "number_of_samples = X_train.shape[0]\n",
    "number_of_features = X_train.shape[1]\n",
    "number_of_classes = y_train.shape[1]\n",
    "\n",
    "print(f'\\nsamples={number_of_samples} features={number_of_features} classes={number_of_classes}\\n')"
   ]
  },
  {
   "cell_type": "code",
   "execution_count": 15,
   "metadata": {
    "pycharm": {
     "name": "#%%\n"
    }
   },
   "outputs": [
    {
     "name": "stdout",
     "output_type": "stream",
     "text": [
      "Model: \"sequential\"\n",
      "_________________________________________________________________\n",
      "Layer (type)                 Output Shape              Param #   \n",
      "=================================================================\n",
      "flatten (Flatten)            (None, 14)                0         \n",
      "_________________________________________________________________\n",
      "dense (Dense)                (None, 64)                960       \n",
      "_________________________________________________________________\n",
      "dense_1 (Dense)              (None, 8)                 520       \n",
      "=================================================================\n",
      "Total params: 1,480\n",
      "Trainable params: 1,480\n",
      "Non-trainable params: 0\n",
      "_________________________________________________________________\n",
      "None\n"
     ]
    }
   ],
   "source": [
    "# Define the NN topology\n",
    "#\n",
    "model = define_nn_topology()\n",
    "print(model.summary())"
   ]
  },
  {
   "cell_type": "code",
   "execution_count": 16,
   "metadata": {
    "pycharm": {
     "name": "#%%\n"
    }
   },
   "outputs": [
    {
     "name": "stdout",
     "output_type": "stream",
     "text": [
      "Epoch 1/100\n",
      "8/8 [==============================] - 13s 107ms/step - loss: 2.0613 - categorical_accuracy: 0.1147 - auc: 0.5878 - precision: 0.0000e+00 - recall: 0.0000e+00 - val_loss: 2.0374 - val_categorical_accuracy: 0.1056 - val_auc: 0.5302 - val_precision: 0.0000e+00 - val_recall: 0.0000e+00\n",
      "Epoch 2/100\n",
      "8/8 [==============================] - 0s 12ms/step - loss: 2.2523 - categorical_accuracy: 0.0804 - auc: 0.4859 - precision: 0.0000e+00 - recall: 0.0000e+00 - val_loss: 1.9791 - val_categorical_accuracy: 0.1026 - val_auc: 0.5668 - val_precision: 0.0000e+00 - val_recall: 0.0000e+00\n",
      "Epoch 3/100\n",
      "8/8 [==============================] - 0s 13ms/step - loss: 2.0024 - categorical_accuracy: 0.0961 - auc: 0.5780 - precision: 0.0000e+00 - recall: 0.0000e+00 - val_loss: 1.9337 - val_categorical_accuracy: 0.1017 - val_auc: 0.5983 - val_precision: 0.0000e+00 - val_recall: 0.0000e+00\n",
      "Epoch 4/100\n",
      "8/8 [==============================] - 0s 13ms/step - loss: 2.0555 - categorical_accuracy: 0.0957 - auc: 0.5978 - precision: 0.0000e+00 - recall: 0.0000e+00 - val_loss: 1.8785 - val_categorical_accuracy: 0.1391 - val_auc: 0.6263 - val_precision: 0.0000e+00 - val_recall: 0.0000e+00\n",
      "Epoch 5/100\n",
      "8/8 [==============================] - 0s 13ms/step - loss: 1.9357 - categorical_accuracy: 0.1591 - auc: 0.6289 - precision: 0.0000e+00 - recall: 0.0000e+00 - val_loss: 1.8357 - val_categorical_accuracy: 0.1918 - val_auc: 0.6505 - val_precision: 0.0000e+00 - val_recall: 0.0000e+00\n",
      "Epoch 6/100\n",
      "8/8 [==============================] - 0s 13ms/step - loss: 1.9439 - categorical_accuracy: 0.2117 - auc: 0.6528 - precision: 0.0000e+00 - recall: 0.0000e+00 - val_loss: 1.7953 - val_categorical_accuracy: 0.2268 - val_auc: 0.6743 - val_precision: 0.0000e+00 - val_recall: 0.0000e+00\n",
      "Epoch 7/100\n",
      "8/8 [==============================] - 0s 13ms/step - loss: 1.8135 - categorical_accuracy: 0.2358 - auc: 0.6846 - precision: 0.0000e+00 - recall: 0.0000e+00 - val_loss: 1.7531 - val_categorical_accuracy: 0.2518 - val_auc: 0.6980 - val_precision: 0.0000e+00 - val_recall: 0.0000e+00\n",
      "Epoch 8/100\n",
      "8/8 [==============================] - 0s 13ms/step - loss: 1.7997 - categorical_accuracy: 0.2525 - auc: 0.7059 - precision: 0.0000e+00 - recall: 0.0000e+00 - val_loss: 1.6989 - val_categorical_accuracy: 0.2704 - val_auc: 0.7203 - val_precision: 0.0000e+00 - val_recall: 0.0000e+00\n",
      "Epoch 9/100\n",
      "8/8 [==============================] - 0s 12ms/step - loss: 1.6865 - categorical_accuracy: 0.2895 - auc: 0.7291 - precision: 0.0000e+00 - recall: 0.0000e+00 - val_loss: 1.6628 - val_categorical_accuracy: 0.2961 - val_auc: 0.7408 - val_precision: 0.0000e+00 - val_recall: 0.0000e+00\n",
      "Epoch 10/100\n",
      "8/8 [==============================] - 0s 13ms/step - loss: 1.7874 - categorical_accuracy: 0.3044 - auc: 0.7449 - precision: 0.0000e+00 - recall: 0.0000e+00 - val_loss: 1.6100 - val_categorical_accuracy: 0.3166 - val_auc: 0.7585 - val_precision: 0.0000e+00 - val_recall: 0.0000e+00\n",
      "Epoch 11/100\n",
      "8/8 [==============================] - 0s 12ms/step - loss: 1.6530 - categorical_accuracy: 0.3317 - auc: 0.7649 - precision: 0.0000e+00 - recall: 0.0000e+00 - val_loss: 1.5733 - val_categorical_accuracy: 0.3425 - val_auc: 0.7753 - val_precision: 0.0000e+00 - val_recall: 0.0000e+00\n",
      "Epoch 12/100\n",
      "8/8 [==============================] - 0s 13ms/step - loss: 1.6695 - categorical_accuracy: 0.3563 - auc: 0.7803 - precision: 0.0000e+00 - recall: 0.0000e+00 - val_loss: 1.5299 - val_categorical_accuracy: 0.3724 - val_auc: 0.7907 - val_precision: 0.0000e+00 - val_recall: 0.0000e+00\n",
      "Epoch 13/100\n",
      "8/8 [==============================] - 0s 12ms/step - loss: 1.5187 - categorical_accuracy: 0.3841 - auc: 0.7960 - precision: 0.0000e+00 - recall: 0.0000e+00 - val_loss: 1.4932 - val_categorical_accuracy: 0.3977 - val_auc: 0.8049 - val_precision: 0.0000e+00 - val_recall: 0.0000e+00\n",
      "Epoch 14/100\n",
      "8/8 [==============================] - 0s 12ms/step - loss: 1.5194 - categorical_accuracy: 0.4051 - auc: 0.8097 - precision: 0.0000e+00 - recall: 0.0000e+00 - val_loss: 1.4321 - val_categorical_accuracy: 0.4265 - val_auc: 0.8182 - val_precision: 0.0000e+00 - val_recall: 0.0000e+00\n",
      "Epoch 15/100\n",
      "8/8 [==============================] - 0s 12ms/step - loss: 1.5384 - categorical_accuracy: 0.4400 - auc: 0.8228 - precision: 0.0000e+00 - recall: 0.0000e+00 - val_loss: 1.3912 - val_categorical_accuracy: 0.4582 - val_auc: 0.8306 - val_precision: 0.0000e+00 - val_recall: 0.0000e+00\n",
      "Epoch 16/100\n",
      "8/8 [==============================] - 0s 13ms/step - loss: 1.4797 - categorical_accuracy: 0.4659 - auc: 0.8344 - precision: 0.0000e+00 - recall: 0.0000e+00 - val_loss: 1.3391 - val_categorical_accuracy: 0.4859 - val_auc: 0.8418 - val_precision: 0.0000e+00 - val_recall: 0.0000e+00\n",
      "Epoch 17/100\n",
      "8/8 [==============================] - 0s 12ms/step - loss: 1.4454 - categorical_accuracy: 0.4925 - auc: 0.8451 - precision: 0.0000e+00 - recall: 0.0000e+00 - val_loss: 1.3031 - val_categorical_accuracy: 0.5103 - val_auc: 0.8520 - val_precision: 0.0000e+00 - val_recall: 0.0000e+00\n",
      "Epoch 18/100\n",
      "8/8 [==============================] - 0s 13ms/step - loss: 1.3190 - categorical_accuracy: 0.5181 - auc: 0.8554 - precision: 0.0000e+00 - recall: 0.0000e+00 - val_loss: 1.2501 - val_categorical_accuracy: 0.5320 - val_auc: 0.8612 - val_precision: 0.0000e+00 - val_recall: 0.0000e+00\n",
      "Epoch 19/100\n",
      "8/8 [==============================] - 0s 12ms/step - loss: 1.3374 - categorical_accuracy: 0.5396 - auc: 0.8643 - precision: 0.0000e+00 - recall: 0.0000e+00 - val_loss: 1.2130 - val_categorical_accuracy: 0.5514 - val_auc: 0.8696 - val_precision: 0.0000e+00 - val_recall: 0.0000e+00\n",
      "Epoch 20/100\n",
      "8/8 [==============================] - 0s 13ms/step - loss: 1.2994 - categorical_accuracy: 0.5542 - auc: 0.8720 - precision: 0.0000e+00 - recall: 0.0000e+00 - val_loss: 1.1700 - val_categorical_accuracy: 0.5689 - val_auc: 0.8774 - val_precision: 0.0000e+00 - val_recall: 0.0000e+00\n",
      "Epoch 21/100\n",
      "8/8 [==============================] - 0s 13ms/step - loss: 1.2588 - categorical_accuracy: 0.5746 - auc: 0.8798 - precision: 0.0000e+00 - recall: 0.0000e+00 - val_loss: 1.1158 - val_categorical_accuracy: 0.5847 - val_auc: 0.8845 - val_precision: 0.0000e+00 - val_recall: 0.0000e+00\n",
      "Epoch 22/100\n",
      "8/8 [==============================] - 0s 13ms/step - loss: 1.2914 - categorical_accuracy: 0.5867 - auc: 0.8867 - precision: 0.0000e+00 - recall: 0.0000e+00 - val_loss: 1.0792 - val_categorical_accuracy: 0.5991 - val_auc: 0.8912 - val_precision: 0.0000e+00 - val_recall: 0.0000e+00\n",
      "Epoch 23/100\n",
      "8/8 [==============================] - 0s 12ms/step - loss: 1.1717 - categorical_accuracy: 0.6053 - auc: 0.8934 - precision: 0.0000e+00 - recall: 0.0000e+00 - val_loss: 1.0284 - val_categorical_accuracy: 0.6166 - val_auc: 0.8976 - val_precision: 0.0000e+00 - val_recall: 0.0000e+00\n",
      "Epoch 24/100\n",
      "8/8 [==============================] - 0s 12ms/step - loss: 1.2082 - categorical_accuracy: 0.6222 - auc: 0.8997 - precision: 0.0000e+00 - recall: 0.0000e+00 - val_loss: 1.0003 - val_categorical_accuracy: 0.6326 - val_auc: 0.9033 - val_precision: 0.0000e+00 - val_recall: 0.0000e+00\n",
      "Epoch 25/100\n",
      "8/8 [==============================] - 0s 13ms/step - loss: 1.1004 - categorical_accuracy: 0.6378 - auc: 0.9054 - precision: 0.0000e+00 - recall: 0.0000e+00 - val_loss: 0.9516 - val_categorical_accuracy: 0.6473 - val_auc: 0.9086 - val_precision: 0.0000e+00 - val_recall: 0.0000e+00\n",
      "Epoch 26/100\n",
      "8/8 [==============================] - 0s 14ms/step - loss: 1.0572 - categorical_accuracy: 0.6521 - auc: 0.9105 - precision: 0.0000e+00 - recall: 0.0000e+00 - val_loss: 0.8994 - val_categorical_accuracy: 0.6609 - val_auc: 0.9136 - val_precision: 0.0000e+00 - val_recall: 0.0000e+00\n",
      "Epoch 27/100\n",
      "8/8 [==============================] - 0s 14ms/step - loss: 0.9899 - categorical_accuracy: 0.6653 - auc: 0.9151 - precision: 0.0000e+00 - recall: 0.0000e+00 - val_loss: 0.8654 - val_categorical_accuracy: 0.6735 - val_auc: 0.9181 - val_precision: 0.0000e+00 - val_recall: 0.0000e+00\n",
      "Epoch 28/100\n",
      "8/8 [==============================] - 0s 13ms/step - loss: 1.0201 - categorical_accuracy: 0.6776 - auc: 0.9197 - precision: 0.0000e+00 - recall: 0.0000e+00 - val_loss: 0.8273 - val_categorical_accuracy: 0.6852 - val_auc: 0.9224 - val_precision: 0.0000e+00 - val_recall: 0.0000e+00\n"
     ]
    },
    {
     "name": "stdout",
     "output_type": "stream",
     "text": [
      "Epoch 29/100\n",
      "8/8 [==============================] - 0s 12ms/step - loss: 0.9305 - categorical_accuracy: 0.6890 - auc: 0.9238 - precision: 0.0000e+00 - recall: 0.0000e+00 - val_loss: 0.7875 - val_categorical_accuracy: 0.6960 - val_auc: 0.9263 - val_precision: 0.0000e+00 - val_recall: 0.0000e+00\n",
      "Epoch 30/100\n",
      "8/8 [==============================] - 0s 12ms/step - loss: 0.8498 - categorical_accuracy: 0.6996 - auc: 0.9276 - precision: 0.0278 - recall: 9.3214e-05 - val_loss: 0.7401 - val_categorical_accuracy: 0.7062 - val_auc: 0.9300 - val_precision: 1.0000 - val_recall: 0.0033\n",
      "Epoch 31/100\n",
      "8/8 [==============================] - 0s 12ms/step - loss: 0.8065 - categorical_accuracy: 0.7095 - auc: 0.9312 - precision: 1.0000 - recall: 0.0042 - val_loss: 0.7019 - val_categorical_accuracy: 0.7157 - val_auc: 0.9335 - val_precision: 1.0000 - val_recall: 0.0129\n",
      "Epoch 32/100\n",
      "8/8 [==============================] - 0s 12ms/step - loss: 0.8405 - categorical_accuracy: 0.7188 - auc: 0.9345 - precision: 1.0000 - recall: 0.0154 - val_loss: 0.6713 - val_categorical_accuracy: 0.7246 - val_auc: 0.9367 - val_precision: 1.0000 - val_recall: 0.0250\n",
      "Epoch 33/100\n",
      "8/8 [==============================] - 0s 12ms/step - loss: 0.7139 - categorical_accuracy: 0.7275 - auc: 0.9377 - precision: 1.0000 - recall: 0.0307 - val_loss: 0.6413 - val_categorical_accuracy: 0.7329 - val_auc: 0.9397 - val_precision: 1.0000 - val_recall: 0.0410\n",
      "Epoch 34/100\n",
      "8/8 [==============================] - 0s 12ms/step - loss: 0.6906 - categorical_accuracy: 0.7357 - auc: 0.9407 - precision: 1.0000 - recall: 0.0476 - val_loss: 0.6157 - val_categorical_accuracy: 0.7408 - val_auc: 0.9425 - val_precision: 1.0000 - val_recall: 0.0574\n",
      "Epoch 35/100\n",
      "8/8 [==============================] - 0s 13ms/step - loss: 0.7255 - categorical_accuracy: 0.7434 - auc: 0.9434 - precision: 1.0000 - recall: 0.0605 - val_loss: 0.5819 - val_categorical_accuracy: 0.7482 - val_auc: 0.9451 - val_precision: 1.0000 - val_recall: 0.0730\n",
      "Epoch 36/100\n",
      "8/8 [==============================] - 0s 13ms/step - loss: 0.6259 - categorical_accuracy: 0.7507 - auc: 0.9460 - precision: 1.0000 - recall: 0.0795 - val_loss: 0.5453 - val_categorical_accuracy: 0.7552 - val_auc: 0.9476 - val_precision: 1.0000 - val_recall: 0.0904\n",
      "Epoch 37/100\n",
      "8/8 [==============================] - 0s 12ms/step - loss: 0.6783 - categorical_accuracy: 0.7575 - auc: 0.9485 - precision: 1.0000 - recall: 0.0948 - val_loss: 0.5183 - val_categorical_accuracy: 0.7618 - val_auc: 0.9500 - val_precision: 1.0000 - val_recall: 0.1069\n",
      "Epoch 38/100\n",
      "8/8 [==============================] - 0s 12ms/step - loss: 0.5673 - categorical_accuracy: 0.7640 - auc: 0.9507 - precision: 1.0000 - recall: 0.1149 - val_loss: 0.4911 - val_categorical_accuracy: 0.7681 - val_auc: 0.9522 - val_precision: 1.0000 - val_recall: 0.1278\n",
      "Epoch 39/100\n",
      "8/8 [==============================] - 0s 12ms/step - loss: 0.5652 - categorical_accuracy: 0.7702 - auc: 0.9530 - precision: 1.0000 - recall: 0.1353 - val_loss: 0.4677 - val_categorical_accuracy: 0.7741 - val_auc: 0.9543 - val_precision: 1.0000 - val_recall: 0.1476\n",
      "Epoch 40/100\n",
      "8/8 [==============================] - 0s 12ms/step - loss: 0.5659 - categorical_accuracy: 0.7760 - auc: 0.9550 - precision: 1.0000 - recall: 0.1551 - val_loss: 0.4415 - val_categorical_accuracy: 0.7797 - val_auc: 0.9563 - val_precision: 1.0000 - val_recall: 0.1690\n",
      "Epoch 41/100\n",
      "8/8 [==============================] - 0s 12ms/step - loss: 0.5349 - categorical_accuracy: 0.7816 - auc: 0.9570 - precision: 1.0000 - recall: 0.1760 - val_loss: 0.4151 - val_categorical_accuracy: 0.7851 - val_auc: 0.9582 - val_precision: 1.0000 - val_recall: 0.1893\n",
      "Epoch 42/100\n",
      "8/8 [==============================] - 0s 12ms/step - loss: 0.4694 - categorical_accuracy: 0.7869 - auc: 0.9588 - precision: 1.0000 - recall: 0.1960 - val_loss: 0.3972 - val_categorical_accuracy: 0.7902 - val_auc: 0.9599 - val_precision: 1.0000 - val_recall: 0.2086\n",
      "Epoch 43/100\n",
      "8/8 [==============================] - 0s 13ms/step - loss: 0.4714 - categorical_accuracy: 0.7919 - auc: 0.9605 - precision: 1.0000 - recall: 0.2150 - val_loss: 0.3792 - val_categorical_accuracy: 0.7951 - val_auc: 0.9616 - val_precision: 1.0000 - val_recall: 0.2270\n",
      "Epoch 44/100\n",
      "8/8 [==============================] - 0s 12ms/step - loss: 0.4404 - categorical_accuracy: 0.7967 - auc: 0.9622 - precision: 1.0000 - recall: 0.2331 - val_loss: 0.3596 - val_categorical_accuracy: 0.7998 - val_auc: 0.9632 - val_precision: 1.0000 - val_recall: 0.2446\n",
      "Epoch 45/100\n",
      "8/8 [==============================] - 0s 13ms/step - loss: 0.4357 - categorical_accuracy: 0.8013 - auc: 0.9637 - precision: 1.0000 - recall: 0.2505 - val_loss: 0.3411 - val_categorical_accuracy: 0.8042 - val_auc: 0.9647 - val_precision: 1.0000 - val_recall: 0.2614\n",
      "Epoch 46/100\n",
      "8/8 [==============================] - 0s 12ms/step - loss: 0.3662 - categorical_accuracy: 0.8057 - auc: 0.9652 - precision: 1.0000 - recall: 0.2670 - val_loss: 0.3171 - val_categorical_accuracy: 0.8085 - val_auc: 0.9661 - val_precision: 1.0000 - val_recall: 0.2775\n",
      "Epoch 47/100\n",
      "8/8 [==============================] - 0s 12ms/step - loss: 0.3418 - categorical_accuracy: 0.8099 - auc: 0.9666 - precision: 1.0000 - recall: 0.2828 - val_loss: 0.3005 - val_categorical_accuracy: 0.8126 - val_auc: 0.9674 - val_precision: 1.0000 - val_recall: 0.2929\n",
      "Epoch 48/100\n",
      "8/8 [==============================] - 0s 12ms/step - loss: 0.3690 - categorical_accuracy: 0.8139 - auc: 0.9679 - precision: 1.0000 - recall: 0.2980 - val_loss: 0.2884 - val_categorical_accuracy: 0.8165 - val_auc: 0.9687 - val_precision: 1.0000 - val_recall: 0.3076\n",
      "Epoch 49/100\n",
      "8/8 [==============================] - 0s 12ms/step - loss: 0.3188 - categorical_accuracy: 0.8178 - auc: 0.9691 - precision: 1.0000 - recall: 0.3125 - val_loss: 0.2750 - val_categorical_accuracy: 0.8202 - val_auc: 0.9699 - val_precision: 1.0000 - val_recall: 0.3218\n",
      "Epoch 50/100\n",
      "8/8 [==============================] - 0s 12ms/step - loss: 0.3020 - categorical_accuracy: 0.8215 - auc: 0.9703 - precision: 1.0000 - recall: 0.3265 - val_loss: 0.2595 - val_categorical_accuracy: 0.8238 - val_auc: 0.9710 - val_precision: 1.0000 - val_recall: 0.3353\n",
      "Epoch 51/100\n",
      "8/8 [==============================] - 0s 12ms/step - loss: 0.2810 - categorical_accuracy: 0.8250 - auc: 0.9714 - precision: 1.0000 - recall: 0.3399 - val_loss: 0.2453 - val_categorical_accuracy: 0.8273 - val_auc: 0.9721 - val_precision: 1.0000 - val_recall: 0.3484\n",
      "Epoch 52/100\n",
      "8/8 [==============================] - 0s 12ms/step - loss: 0.2886 - categorical_accuracy: 0.8284 - auc: 0.9725 - precision: 1.0000 - recall: 0.3527 - val_loss: 0.2335 - val_categorical_accuracy: 0.8306 - val_auc: 0.9731 - val_precision: 1.0000 - val_recall: 0.3609\n",
      "Epoch 53/100\n",
      "8/8 [==============================] - 0s 13ms/step - loss: 0.2808 - categorical_accuracy: 0.8317 - auc: 0.9735 - precision: 1.0000 - recall: 0.3651 - val_loss: 0.2250 - val_categorical_accuracy: 0.8338 - val_auc: 0.9741 - val_precision: 1.0000 - val_recall: 0.3730\n",
      "Epoch 54/100\n",
      "8/8 [==============================] - 0s 12ms/step - loss: 0.2759 - categorical_accuracy: 0.8349 - auc: 0.9744 - precision: 1.0000 - recall: 0.3770 - val_loss: 0.2174 - val_categorical_accuracy: 0.8369 - val_auc: 0.9750 - val_precision: 1.0000 - val_recall: 0.3846\n",
      "Epoch 55/100\n",
      "8/8 [==============================] - 0s 12ms/step - loss: 0.2408 - categorical_accuracy: 0.8379 - auc: 0.9753 - precision: 1.0000 - recall: 0.3885 - val_loss: 0.2026 - val_categorical_accuracy: 0.8399 - val_auc: 0.9759 - val_precision: 1.0000 - val_recall: 0.3958\n",
      "Epoch 56/100\n",
      "8/8 [==============================] - 0s 12ms/step - loss: 0.2092 - categorical_accuracy: 0.8409 - auc: 0.9762 - precision: 1.0000 - recall: 0.3996 - val_loss: 0.1928 - val_categorical_accuracy: 0.8427 - val_auc: 0.9767 - val_precision: 1.0000 - val_recall: 0.4066\n",
      "Epoch 57/100\n",
      "8/8 [==============================] - 0s 12ms/step - loss: 0.2351 - categorical_accuracy: 0.8437 - auc: 0.9770 - precision: 1.0000 - recall: 0.4102 - val_loss: 0.1875 - val_categorical_accuracy: 0.8455 - val_auc: 0.9775 - val_precision: 1.0000 - val_recall: 0.4170\n",
      "Epoch 58/100\n"
     ]
    },
    {
     "name": "stdout",
     "output_type": "stream",
     "text": [
      "8/8 [==============================] - 0s 12ms/step - loss: 0.2254 - categorical_accuracy: 0.8464 - auc: 0.9778 - precision: 1.0000 - recall: 0.4205 - val_loss: 0.1799 - val_categorical_accuracy: 0.8481 - val_auc: 0.9783 - val_precision: 1.0000 - val_recall: 0.4271\n",
      "Epoch 59/100\n",
      "8/8 [==============================] - 0s 12ms/step - loss: 0.1861 - categorical_accuracy: 0.8490 - auc: 0.9785 - precision: 1.0000 - recall: 0.4305 - val_loss: 0.1705 - val_categorical_accuracy: 0.8507 - val_auc: 0.9790 - val_precision: 1.0000 - val_recall: 0.4368\n",
      "Epoch 60/100\n",
      "8/8 [==============================] - 0s 12ms/step - loss: 0.1782 - categorical_accuracy: 0.8516 - auc: 0.9792 - precision: 1.0000 - recall: 0.4401 - val_loss: 0.1643 - val_categorical_accuracy: 0.8532 - val_auc: 0.9797 - val_precision: 1.0000 - val_recall: 0.4462\n",
      "Epoch 61/100\n",
      "8/8 [==============================] - 0s 12ms/step - loss: 0.1673 - categorical_accuracy: 0.8540 - auc: 0.9799 - precision: 1.0000 - recall: 0.4494 - val_loss: 0.1563 - val_categorical_accuracy: 0.8556 - val_auc: 0.9803 - val_precision: 1.0000 - val_recall: 0.4553\n",
      "Epoch 62/100\n",
      "8/8 [==============================] - 0s 12ms/step - loss: 0.1978 - categorical_accuracy: 0.8564 - auc: 0.9806 - precision: 1.0000 - recall: 0.4583 - val_loss: 0.1514 - val_categorical_accuracy: 0.8579 - val_auc: 0.9810 - val_precision: 1.0000 - val_recall: 0.4641\n",
      "Epoch 63/100\n",
      "8/8 [==============================] - 0s 13ms/step - loss: 0.1884 - categorical_accuracy: 0.8587 - auc: 0.9812 - precision: 1.0000 - recall: 0.4670 - val_loss: 0.1458 - val_categorical_accuracy: 0.8602 - val_auc: 0.9816 - val_precision: 1.0000 - val_recall: 0.4726\n",
      "Epoch 64/100\n",
      "8/8 [==============================] - 0s 12ms/step - loss: 0.1578 - categorical_accuracy: 0.8610 - auc: 0.9818 - precision: 1.0000 - recall: 0.4755 - val_loss: 0.1380 - val_categorical_accuracy: 0.8624 - val_auc: 0.9821 - val_precision: 1.0000 - val_recall: 0.4808\n",
      "Epoch 65/100\n",
      "8/8 [==============================] - 0s 13ms/step - loss: 0.1493 - categorical_accuracy: 0.8631 - auc: 0.9823 - precision: 1.0000 - recall: 0.4836 - val_loss: 0.1317 - val_categorical_accuracy: 0.8645 - val_auc: 0.9827 - val_precision: 1.0000 - val_recall: 0.4888\n",
      "Epoch 66/100\n",
      "8/8 [==============================] - 0s 13ms/step - loss: 0.1480 - categorical_accuracy: 0.8652 - auc: 0.9829 - precision: 1.0000 - recall: 0.4915 - val_loss: 0.1267 - val_categorical_accuracy: 0.8666 - val_auc: 0.9832 - val_precision: 1.0000 - val_recall: 0.4966\n",
      "Epoch 67/100\n",
      "8/8 [==============================] - 0s 12ms/step - loss: 0.1415 - categorical_accuracy: 0.8673 - auc: 0.9834 - precision: 1.0000 - recall: 0.4992 - val_loss: 0.1227 - val_categorical_accuracy: 0.8686 - val_auc: 0.9837 - val_precision: 1.0000 - val_recall: 0.5041\n",
      "Epoch 68/100\n",
      "8/8 [==============================] - 0s 12ms/step - loss: 0.1393 - categorical_accuracy: 0.8692 - auc: 0.9839 - precision: 1.0000 - recall: 0.5066 - val_loss: 0.1178 - val_categorical_accuracy: 0.8705 - val_auc: 0.9842 - val_precision: 1.0000 - val_recall: 0.5114\n",
      "Epoch 69/100\n",
      "8/8 [==============================] - 0s 13ms/step - loss: 0.1392 - categorical_accuracy: 0.8711 - auc: 0.9843 - precision: 1.0000 - recall: 0.5139 - val_loss: 0.1137 - val_categorical_accuracy: 0.8724 - val_auc: 0.9846 - val_precision: 1.0000 - val_recall: 0.5185\n",
      "Epoch 70/100\n",
      "8/8 [==============================] - 0s 12ms/step - loss: 0.1389 - categorical_accuracy: 0.8730 - auc: 0.9848 - precision: 1.0000 - recall: 0.5209 - val_loss: 0.1109 - val_categorical_accuracy: 0.8742 - val_auc: 0.9851 - val_precision: 1.0000 - val_recall: 0.5254\n",
      "Epoch 71/100\n",
      "8/8 [==============================] - 0s 12ms/step - loss: 0.1225 - categorical_accuracy: 0.8748 - auc: 0.9852 - precision: 1.0000 - recall: 0.5277 - val_loss: 0.1068 - val_categorical_accuracy: 0.8760 - val_auc: 0.9855 - val_precision: 1.0000 - val_recall: 0.5321\n",
      "Epoch 72/100\n",
      "8/8 [==============================] - 0s 12ms/step - loss: 0.1191 - categorical_accuracy: 0.8766 - auc: 0.9856 - precision: 1.0000 - recall: 0.5343 - val_loss: 0.1021 - val_categorical_accuracy: 0.8777 - val_auc: 0.9859 - val_precision: 1.0000 - val_recall: 0.5386\n",
      "Epoch 73/100\n",
      "8/8 [==============================] - 0s 12ms/step - loss: 0.1208 - categorical_accuracy: 0.8783 - auc: 0.9860 - precision: 1.0000 - recall: 0.5408 - val_loss: 0.0997 - val_categorical_accuracy: 0.8794 - val_auc: 0.9863 - val_precision: 1.0000 - val_recall: 0.5449\n",
      "Epoch 74/100\n",
      "8/8 [==============================] - 0s 12ms/step - loss: 0.1128 - categorical_accuracy: 0.8799 - auc: 0.9864 - precision: 1.0000 - recall: 0.5470 - val_loss: 0.0963 - val_categorical_accuracy: 0.8810 - val_auc: 0.9866 - val_precision: 1.0000 - val_recall: 0.5510\n",
      "Epoch 75/100\n",
      "8/8 [==============================] - 0s 12ms/step - loss: 0.1013 - categorical_accuracy: 0.8816 - auc: 0.9868 - precision: 1.0000 - recall: 0.5531 - val_loss: 0.0923 - val_categorical_accuracy: 0.8826 - val_auc: 0.9870 - val_precision: 1.0000 - val_recall: 0.5570\n",
      "Epoch 76/100\n",
      "8/8 [==============================] - 0s 12ms/step - loss: 0.1016 - categorical_accuracy: 0.8831 - auc: 0.9871 - precision: 1.0000 - recall: 0.5591 - val_loss: 0.0888 - val_categorical_accuracy: 0.8841 - val_auc: 0.9873 - val_precision: 1.0000 - val_recall: 0.5629\n",
      "Epoch 77/100\n",
      "8/8 [==============================] - 0s 12ms/step - loss: 0.0897 - categorical_accuracy: 0.8847 - auc: 0.9874 - precision: 1.0000 - recall: 0.5648 - val_loss: 0.0858 - val_categorical_accuracy: 0.8856 - val_auc: 0.9877 - val_precision: 1.0000 - val_recall: 0.5686\n",
      "Epoch 78/100\n",
      "8/8 [==============================] - 0s 13ms/step - loss: 0.0983 - categorical_accuracy: 0.8861 - auc: 0.9878 - precision: 1.0000 - recall: 0.5705 - val_loss: 0.0836 - val_categorical_accuracy: 0.8871 - val_auc: 0.9880 - val_precision: 1.0000 - val_recall: 0.5741\n",
      "Epoch 79/100\n",
      "8/8 [==============================] - 0s 13ms/step - loss: 0.0914 - categorical_accuracy: 0.8876 - auc: 0.9881 - precision: 1.0000 - recall: 0.5760 - val_loss: 0.0816 - val_categorical_accuracy: 0.8885 - val_auc: 0.9883 - val_precision: 1.0000 - val_recall: 0.5795\n",
      "Epoch 80/100\n",
      "8/8 [==============================] - 0s 13ms/step - loss: 0.0931 - categorical_accuracy: 0.8890 - auc: 0.9884 - precision: 1.0000 - recall: 0.5813 - val_loss: 0.0782 - val_categorical_accuracy: 0.8899 - val_auc: 0.9886 - val_precision: 1.0000 - val_recall: 0.5847\n",
      "Epoch 81/100\n",
      "8/8 [==============================] - 0s 12ms/step - loss: 0.0894 - categorical_accuracy: 0.8904 - auc: 0.9887 - precision: 1.0000 - recall: 0.5865 - val_loss: 0.0759 - val_categorical_accuracy: 0.8913 - val_auc: 0.9888 - val_precision: 1.0000 - val_recall: 0.5899\n",
      "Epoch 82/100\n",
      "8/8 [==============================] - 0s 13ms/step - loss: 0.0865 - categorical_accuracy: 0.8918 - auc: 0.9889 - precision: 1.0000 - recall: 0.5916 - val_loss: 0.0743 - val_categorical_accuracy: 0.8926 - val_auc: 0.9891 - val_precision: 1.0000 - val_recall: 0.5949\n",
      "Epoch 83/100\n",
      "8/8 [==============================] - 0s 13ms/step - loss: 0.0820 - categorical_accuracy: 0.8931 - auc: 0.9892 - precision: 1.0000 - recall: 0.5966 - val_loss: 0.0722 - val_categorical_accuracy: 0.8939 - val_auc: 0.9894 - val_precision: 1.0000 - val_recall: 0.5998\n",
      "Epoch 84/100\n",
      "8/8 [==============================] - 0s 13ms/step - loss: 0.0797 - categorical_accuracy: 0.8944 - auc: 0.9895 - precision: 1.0000 - recall: 0.6014 - val_loss: 0.0695 - val_categorical_accuracy: 0.8952 - val_auc: 0.9896 - val_precision: 1.0000 - val_recall: 0.6045\n",
      "Epoch 85/100\n",
      "8/8 [==============================] - 0s 12ms/step - loss: 0.0758 - categorical_accuracy: 0.8956 - auc: 0.9897 - precision: 1.0000 - recall: 0.6061 - val_loss: 0.0677 - val_categorical_accuracy: 0.8964 - val_auc: 0.9899 - val_precision: 1.0000 - val_recall: 0.6092\n",
      "Epoch 86/100\n",
      "8/8 [==============================] - 0s 12ms/step - loss: 0.0729 - categorical_accuracy: 0.8968 - auc: 0.9900 - precision: 1.0000 - recall: 0.6108 - val_loss: 0.0656 - val_categorical_accuracy: 0.8976 - val_auc: 0.9901 - val_precision: 1.0000 - val_recall: 0.6137\n",
      "Epoch 87/100\n"
     ]
    },
    {
     "name": "stdout",
     "output_type": "stream",
     "text": [
      "8/8 [==============================] - 0s 12ms/step - loss: 0.0750 - categorical_accuracy: 0.8980 - auc: 0.9902 - precision: 1.0000 - recall: 0.6153 - val_loss: 0.0638 - val_categorical_accuracy: 0.8988 - val_auc: 0.9903 - val_precision: 1.0000 - val_recall: 0.6182\n",
      "Epoch 88/100\n",
      "8/8 [==============================] - 0s 12ms/step - loss: 0.0729 - categorical_accuracy: 0.8992 - auc: 0.9904 - precision: 1.0000 - recall: 0.6197 - val_loss: 0.0615 - val_categorical_accuracy: 0.8999 - val_auc: 0.9905 - val_precision: 1.0000 - val_recall: 0.6225\n",
      "Epoch 89/100\n",
      "8/8 [==============================] - 0s 13ms/step - loss: 0.0713 - categorical_accuracy: 0.9003 - auc: 0.9906 - precision: 1.0000 - recall: 0.6240 - val_loss: 0.0595 - val_categorical_accuracy: 0.9011 - val_auc: 0.9908 - val_precision: 1.0000 - val_recall: 0.6268\n",
      "Epoch 90/100\n",
      "8/8 [==============================] - 0s 12ms/step - loss: 0.0611 - categorical_accuracy: 0.9014 - auc: 0.9908 - precision: 1.0000 - recall: 0.6282 - val_loss: 0.0582 - val_categorical_accuracy: 0.9022 - val_auc: 0.9910 - val_precision: 1.0000 - val_recall: 0.6309\n",
      "Epoch 91/100\n",
      "8/8 [==============================] - 0s 12ms/step - loss: 0.0615 - categorical_accuracy: 0.9025 - auc: 0.9910 - precision: 1.0000 - recall: 0.6323 - val_loss: 0.0565 - val_categorical_accuracy: 0.9032 - val_auc: 0.9912 - val_precision: 1.0000 - val_recall: 0.6350\n",
      "Epoch 92/100\n",
      "8/8 [==============================] - 0s 12ms/step - loss: 0.0623 - categorical_accuracy: 0.9036 - auc: 0.9912 - precision: 1.0000 - recall: 0.6363 - val_loss: 0.0549 - val_categorical_accuracy: 0.9043 - val_auc: 0.9914 - val_precision: 1.0000 - val_recall: 0.6389\n",
      "Epoch 93/100\n",
      "8/8 [==============================] - 0s 12ms/step - loss: 0.0686 - categorical_accuracy: 0.9047 - auc: 0.9914 - precision: 1.0000 - recall: 0.6403 - val_loss: 0.0534 - val_categorical_accuracy: 0.9053 - val_auc: 0.9915 - val_precision: 1.0000 - val_recall: 0.6428\n",
      "Epoch 94/100\n",
      "8/8 [==============================] - 0s 12ms/step - loss: 0.0588 - categorical_accuracy: 0.9057 - auc: 0.9916 - precision: 1.0000 - recall: 0.6441 - val_loss: 0.0519 - val_categorical_accuracy: 0.9063 - val_auc: 0.9917 - val_precision: 1.0000 - val_recall: 0.6466\n",
      "Epoch 95/100\n",
      "8/8 [==============================] - 0s 12ms/step - loss: 0.0541 - categorical_accuracy: 0.9067 - auc: 0.9918 - precision: 1.0000 - recall: 0.6479 - val_loss: 0.0507 - val_categorical_accuracy: 0.9073 - val_auc: 0.9919 - val_precision: 1.0000 - val_recall: 0.6503\n",
      "Epoch 96/100\n",
      "8/8 [==============================] - 0s 13ms/step - loss: 0.0535 - categorical_accuracy: 0.9077 - auc: 0.9919 - precision: 1.0000 - recall: 0.6516 - val_loss: 0.0493 - val_categorical_accuracy: 0.9083 - val_auc: 0.9921 - val_precision: 1.0000 - val_recall: 0.6540\n",
      "Epoch 97/100\n",
      "8/8 [==============================] - 0s 12ms/step - loss: 0.0540 - categorical_accuracy: 0.9086 - auc: 0.9921 - precision: 1.0000 - recall: 0.6552 - val_loss: 0.0480 - val_categorical_accuracy: 0.9092 - val_auc: 0.9922 - val_precision: 1.0000 - val_recall: 0.6576\n",
      "Epoch 98/100\n",
      "8/8 [==============================] - 0s 12ms/step - loss: 0.0542 - categorical_accuracy: 0.9096 - auc: 0.9923 - precision: 1.0000 - recall: 0.6588 - val_loss: 0.0469 - val_categorical_accuracy: 0.9102 - val_auc: 0.9924 - val_precision: 1.0000 - val_recall: 0.6611\n",
      "Epoch 99/100\n",
      "8/8 [==============================] - 0s 12ms/step - loss: 0.0454 - categorical_accuracy: 0.9105 - auc: 0.9924 - precision: 1.0000 - recall: 0.6622 - val_loss: 0.0456 - val_categorical_accuracy: 0.9111 - val_auc: 0.9925 - val_precision: 1.0000 - val_recall: 0.6645\n",
      "Epoch 100/100\n",
      "8/8 [==============================] - 0s 12ms/step - loss: 0.0470 - categorical_accuracy: 0.9114 - auc: 0.9926 - precision: 1.0000 - recall: 0.6656 - val_loss: 0.0446 - val_categorical_accuracy: 0.9120 - val_auc: 0.9927 - val_precision: 1.0000 - val_recall: 0.6678\n"
     ]
    }
   ],
   "source": [
    "# Train the model \n",
    "#\n",
    "batch_size = 1\n",
    "epochs = 100\n",
    "\n",
    "# https://www.tensorflow.org/guide/keras/train_and_evaluate\n",
    "history = model.fit(X_train, y_train, batch_size=batch_size, epochs=epochs, validation_data=(X_test, y_test))"
   ]
  },
  {
   "cell_type": "code",
   "execution_count": 17,
   "metadata": {
    "pycharm": {
     "name": "#%%\n"
    }
   },
   "outputs": [],
   "source": [
    "# Optionally: save the model\n",
    "#\n",
    "# model.save(\"onehot-example.h5\")"
   ]
  },
  {
   "cell_type": "code",
   "execution_count": 18,
   "metadata": {
    "pycharm": {
     "name": "#%%\n"
    }
   },
   "outputs": [
    {
     "name": "stdout",
     "output_type": "stream",
     "text": [
      "Evaluate on test data\n",
      "2/2 [==============================] - 0s 11ms/step - loss: 0.0446 - categorical_accuracy: 0.9121 - auc: 0.9927 - precision: 1.0000 - recall: 0.6685\n",
      "test loss, test acc: [0.04458022862672806, 0.9121317863464355, 0.9927113056182861, 1.0, 0.6684972047805786]\n"
     ]
    }
   ],
   "source": [
    "# Evaluate the model on the test data using `evaluate`\n",
    "#\n",
    "print(\"Evaluate on test data\")\n",
    "results = model.evaluate(X_test, y_test, batch_size=batch_size)\n",
    "print(\"test loss, test acc:\", results)"
   ]
  },
  {
   "cell_type": "code",
   "execution_count": 19,
   "metadata": {
    "pycharm": {
     "name": "#%%\n"
    }
   },
   "outputs": [
    {
     "name": "stdout",
     "output_type": "stream",
     "text": [
      "['loss', 'categorical_accuracy', 'auc', 'precision', 'recall', 'val_loss', 'val_categorical_accuracy', 'val_auc', 'val_precision', 'val_recall']\n"
     ]
    }
   ],
   "source": [
    "# List the keys\n",
    "#\n",
    "keys = list(history.history.keys())\n",
    "print(keys)"
   ]
  },
  {
   "cell_type": "code",
   "execution_count": 20,
   "metadata": {
    "pycharm": {
     "name": "#%%\n"
    }
   },
   "outputs": [
    {
     "data": {
      "image/png": "[encoded data removed]",
      "text/plain": [
       "<Figure size 432x288 with 1 Axes>"
      ]
     },
     "metadata": {
      "needs_background": "light"
     },
     "output_type": "display_data"
    },
    {
     "data": {
      "image/png": "[encoded data removed]",
      "text/plain": [
       "<Figure size 432x288 with 1 Axes>"
      ]
     },
     "metadata": {
      "needs_background": "light"
     },
     "output_type": "display_data"
    },
    {
     "data": {
      "image/png": "[encoded data removed]",
      "text/plain": [
       "<Figure size 432x288 with 1 Axes>"
      ]
     },
     "metadata": {
      "needs_background": "light"
     },
     "output_type": "display_data"
    },
    {
     "data": {
      "image/png": "[encoded data removed]",
      "text/plain": [
       "<Figure size 432x288 with 1 Axes>"
      ]
     },
     "metadata": {
      "needs_background": "light"
     },
     "output_type": "display_data"
    },
    {
     "data": {
      "image/png": "[encoded data removed]",
      "text/plain": [
       "<Figure size 432x288 with 1 Axes>"
      ]
     },
     "metadata": {
      "needs_background": "light"
     },
     "output_type": "display_data"
    }
   ],
   "source": [
    "# Plot the metrics\n",
    "#\n",
    "for ix in range(int(len(keys) / 2)):\n",
    "    plot_metric(history.history, keys[ix])"
   ]
  },
  {
   "cell_type": "code",
   "execution_count": 21,
   "metadata": {
    "pycharm": {
     "name": "#%%\n"
    }
   },
   "outputs": [
    {
     "name": "stdout",
     "output_type": "stream",
     "text": [
      "val_accuracy = 1.0\n"
     ]
    }
   ],
   "source": [
    "# Predict the values in the test set\n",
    "#\n",
    "y_predict0 = model.predict(X_test)\n",
    "y_predict_idx = np.argmax(y_predict0, axis=1)\n",
    "roomid_predict = to_categorical(y_predict_idx, number_of_classes).astype(int)\n",
    "val_accuracy = accuracy_score(y_test, roomid_predict)\n",
    "print(f'val_accuracy = {val_accuracy}')"
   ]
  },
  {
   "cell_type": "code",
   "execution_count": 22,
   "metadata": {
    "pycharm": {
     "name": "#%%\n"
    },
    "scrolled": true
   },
   "outputs": [
    {
     "name": "stdout",
     "output_type": "stream",
     "text": [
      "   USER_User1  USER_User2  USER_User3  USER_User4  USER_User5  USER_User6  \\\n",
      "0         1.0         0.0         0.0         0.0         0.0         0.0   \n",
      "1         0.0         0.0         1.0         0.0         0.0         0.0   \n",
      "\n",
      "   TYPE_1  TYPE_2  TYPE_3  TYPE_4  TYPE_5  TYPE_6  TYPE_8      DIFF  \n",
      "0     0.0     0.0     0.0     1.0     0.0     0.0     0.0  1.000000  \n",
      "1     0.0     0.0     1.0     0.0     0.0     0.0     0.0  0.333333  \n"
     ]
    }
   ],
   "source": [
    "# Let's print the features in the test set\n",
    "#\n",
    "print(X_test)"
   ]
  },
  {
   "cell_type": "code",
   "execution_count": 23,
   "metadata": {},
   "outputs": [
    {
     "name": "stdout",
     "output_type": "stream",
     "text": [
      "   CLASS_26  CLASS_36  CLASS_39  CLASS_48  CLASS_59  CLASS_64  CLASS_66  \\\n",
      "0       0.0       0.0       0.0       0.0       0.0       0.0       0.0   \n",
      "1       0.0       1.0       0.0       0.0       0.0       0.0       0.0   \n",
      "\n",
      "   CLASS_95  \n",
      "0       1.0  \n",
      "1       0.0  \n"
     ]
    }
   ],
   "source": [
    "# Let's print the labels in the test set\n",
    "#\n",
    "print(y_test)"
   ]
  },
  {
   "cell_type": "code",
   "execution_count": 24,
   "metadata": {},
   "outputs": [
    {
     "name": "stdout",
     "output_type": "stream",
     "text": [
      "[[2.4471022e-03 7.2109012e-04 1.9664490e-03 5.0618718e-03 2.0413455e-03\n",
      "  6.7789555e-03 3.2794066e-02 9.4818920e-01]\n",
      " [2.4072800e-03 9.6467960e-01 8.9294882e-03 3.3979898e-03 5.5725938e-03\n",
      "  2.9983439e-03 8.0303075e-03 3.9842934e-03]]\n"
     ]
    }
   ],
   "source": [
    "print(y_predict0)"
   ]
  },
  {
   "cell_type": "code",
   "execution_count": 25,
   "metadata": {},
   "outputs": [
    {
     "name": "stdout",
     "output_type": "stream",
     "text": [
      "[7 1]\n"
     ]
    }
   ],
   "source": [
    "print(y_predict_idx)"
   ]
  },
  {
   "cell_type": "code",
   "execution_count": null,
   "metadata": {},
   "outputs": [],
   "source": []
  }
 ],
 "metadata": {
  "kernelspec": {
   "display_name": "Python 3 (ipykernel)",
   "language": "python",
   "name": "python3"
  },
  "language_info": {
   "codemirror_mode": {
    "name": "ipython",
    "version": 3
   },
   "file_extension": ".py",
   "mimetype": "text/x-python",
   "name": "python",
   "nbconvert_exporter": "python",
   "pygments_lexer": "ipython3",
   "version": "3.8.6"
  }
 },
 "nbformat": 4,
 "nbformat_minor": 1
}